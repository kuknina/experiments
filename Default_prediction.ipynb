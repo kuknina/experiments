{
 "cells": [
  {
   "cell_type": "markdown",
   "metadata": {},
   "source": [
    "# Modelling challenge: Predicting loan defaults\n",
    "\n",
    "\n",
    "The goal of this exercise is to find which model performs the best on this dataset.\n",
    "\n",
    "This dataset consisted of around 50,000 loans and 101 attributes. \n",
    "\n",
    "One of the attributes is a default indicator that says whether the loan has defaulted or not.\n",
    "\n",
    "The code below goes through 3 main steps:\n",
    "\n",
    "1 - Clean, transform, complete the data\n",
    "\n",
    "2 - Select the modeling algorithm\n",
    "\n",
    "3 - Assess the model quality\n",
    "\n",
    "The code is commented and results are explained."
   ]
  },
  {
   "cell_type": "code",
   "execution_count": 1,
   "metadata": {},
   "outputs": [],
   "source": [
    "# we import libraries that will be needed\n",
    "\n",
    "import numpy as np\n",
    "import pandas as pd\n",
    "import matplotlib.pyplot as plt\n",
    "import matplotlib.dates as mdates\n",
    "import datetime as dt"
   ]
  },
  {
   "cell_type": "markdown",
   "metadata": {},
   "source": [
    "## 1. Read in the dataset and do basic checks"
   ]
  },
  {
   "cell_type": "code",
   "execution_count": 2,
   "metadata": {},
   "outputs": [
    {
     "data": {
      "text/html": [
       "<div>\n",
       "<style scoped>\n",
       "    .dataframe tbody tr th:only-of-type {\n",
       "        vertical-align: middle;\n",
       "    }\n",
       "\n",
       "    .dataframe tbody tr th {\n",
       "        vertical-align: top;\n",
       "    }\n",
       "\n",
       "    .dataframe thead th {\n",
       "        text-align: right;\n",
       "    }\n",
       "</style>\n",
       "<table border=\"1\" class=\"dataframe\">\n",
       "  <thead>\n",
       "    <tr style=\"text-align: right;\">\n",
       "      <th></th>\n",
       "      <th>loanNumber</th>\n",
       "      <th>monthOriginated</th>\n",
       "      <th>default</th>\n",
       "      <th>var1</th>\n",
       "      <th>var2</th>\n",
       "      <th>var4</th>\n",
       "      <th>var5</th>\n",
       "      <th>var6</th>\n",
       "      <th>var7</th>\n",
       "      <th>var8</th>\n",
       "      <th>...</th>\n",
       "      <th>var89</th>\n",
       "      <th>var90</th>\n",
       "      <th>var91</th>\n",
       "      <th>var92</th>\n",
       "      <th>var93</th>\n",
       "      <th>var94</th>\n",
       "      <th>var95</th>\n",
       "      <th>var96</th>\n",
       "      <th>var97</th>\n",
       "      <th>var98</th>\n",
       "    </tr>\n",
       "  </thead>\n",
       "  <tbody>\n",
       "    <tr>\n",
       "      <th>count</th>\n",
       "      <td>52918.000000</td>\n",
       "      <td>52918.000000</td>\n",
       "      <td>52918.000000</td>\n",
       "      <td>52918.000000</td>\n",
       "      <td>52619.000000</td>\n",
       "      <td>5.291800e+04</td>\n",
       "      <td>51879.000000</td>\n",
       "      <td>52174.000000</td>\n",
       "      <td>52139.000000</td>\n",
       "      <td>52918.000000</td>\n",
       "      <td>...</td>\n",
       "      <td>52918.000000</td>\n",
       "      <td>52918.000000</td>\n",
       "      <td>52918.000000</td>\n",
       "      <td>5.261900e+04</td>\n",
       "      <td>52619.000000</td>\n",
       "      <td>5.187900e+04</td>\n",
       "      <td>5.187900e+04</td>\n",
       "      <td>51879.000000</td>\n",
       "      <td>5.187900e+04</td>\n",
       "      <td>5.187900e+04</td>\n",
       "    </tr>\n",
       "    <tr>\n",
       "      <th>mean</th>\n",
       "      <td>26459.500000</td>\n",
       "      <td>201446.631449</td>\n",
       "      <td>0.091198</td>\n",
       "      <td>0.005480</td>\n",
       "      <td>4.618731</td>\n",
       "      <td>8.144960e+04</td>\n",
       "      <td>15329.111240</td>\n",
       "      <td>9164.297945</td>\n",
       "      <td>66.485729</td>\n",
       "      <td>0.009467</td>\n",
       "      <td>...</td>\n",
       "      <td>46.454477</td>\n",
       "      <td>0.047054</td>\n",
       "      <td>27.204713</td>\n",
       "      <td>5.776432e+04</td>\n",
       "      <td>23441.117752</td>\n",
       "      <td>4.718874e+04</td>\n",
       "      <td>3.584723e+04</td>\n",
       "      <td>178.984194</td>\n",
       "      <td>1.661558e+05</td>\n",
       "      <td>2.003850e+05</td>\n",
       "    </tr>\n",
       "    <tr>\n",
       "      <th>std</th>\n",
       "      <td>15276.255109</td>\n",
       "      <td>88.982428</td>\n",
       "      <td>0.287893</td>\n",
       "      <td>0.077814</td>\n",
       "      <td>3.076202</td>\n",
       "      <td>6.350256e+04</td>\n",
       "      <td>15747.599221</td>\n",
       "      <td>13505.183972</td>\n",
       "      <td>26.427349</td>\n",
       "      <td>0.108614</td>\n",
       "      <td>...</td>\n",
       "      <td>41.849424</td>\n",
       "      <td>0.333253</td>\n",
       "      <td>11.768903</td>\n",
       "      <td>4.994096e+04</td>\n",
       "      <td>20910.281548</td>\n",
       "      <td>4.483767e+04</td>\n",
       "      <td>3.282418e+04</td>\n",
       "      <td>1993.890078</td>\n",
       "      <td>1.570253e+05</td>\n",
       "      <td>1.721624e+05</td>\n",
       "    </tr>\n",
       "    <tr>\n",
       "      <th>min</th>\n",
       "      <td>1.000000</td>\n",
       "      <td>201201.000000</td>\n",
       "      <td>0.000000</td>\n",
       "      <td>0.000000</td>\n",
       "      <td>0.000000</td>\n",
       "      <td>4.800000e+03</td>\n",
       "      <td>0.000000</td>\n",
       "      <td>0.000000</td>\n",
       "      <td>0.000000</td>\n",
       "      <td>0.000000</td>\n",
       "      <td>...</td>\n",
       "      <td>-10.000000</td>\n",
       "      <td>0.000000</td>\n",
       "      <td>2.000000</td>\n",
       "      <td>0.000000e+00</td>\n",
       "      <td>0.000000</td>\n",
       "      <td>0.000000e+00</td>\n",
       "      <td>0.000000e+00</td>\n",
       "      <td>0.000000</td>\n",
       "      <td>0.000000e+00</td>\n",
       "      <td>8.000000e+02</td>\n",
       "    </tr>\n",
       "    <tr>\n",
       "      <th>25%</th>\n",
       "      <td>13230.250000</td>\n",
       "      <td>201405.000000</td>\n",
       "      <td>0.000000</td>\n",
       "      <td>0.000000</td>\n",
       "      <td>2.000000</td>\n",
       "      <td>5.289825e+04</td>\n",
       "      <td>4292.000000</td>\n",
       "      <td>1280.250000</td>\n",
       "      <td>48.200000</td>\n",
       "      <td>0.000000</td>\n",
       "      <td>...</td>\n",
       "      <td>7.000000</td>\n",
       "      <td>0.000000</td>\n",
       "      <td>19.000000</td>\n",
       "      <td>2.829600e+04</td>\n",
       "      <td>9600.000000</td>\n",
       "      <td>1.865300e+04</td>\n",
       "      <td>1.730000e+04</td>\n",
       "      <td>0.000000</td>\n",
       "      <td>4.460750e+04</td>\n",
       "      <td>6.896850e+04</td>\n",
       "    </tr>\n",
       "    <tr>\n",
       "      <th>50%</th>\n",
       "      <td>26459.500000</td>\n",
       "      <td>201502.000000</td>\n",
       "      <td>0.000000</td>\n",
       "      <td>0.000000</td>\n",
       "      <td>4.000000</td>\n",
       "      <td>7.000000e+04</td>\n",
       "      <td>10637.000000</td>\n",
       "      <td>4263.000000</td>\n",
       "      <td>71.700000</td>\n",
       "      <td>0.000000</td>\n",
       "      <td>...</td>\n",
       "      <td>30.000000</td>\n",
       "      <td>0.000000</td>\n",
       "      <td>26.000000</td>\n",
       "      <td>4.561500e+04</td>\n",
       "      <td>17500.000000</td>\n",
       "      <td>3.695300e+04</td>\n",
       "      <td>2.810000e+04</td>\n",
       "      <td>0.000000</td>\n",
       "      <td>1.276040e+05</td>\n",
       "      <td>1.598000e+05</td>\n",
       "    </tr>\n",
       "    <tr>\n",
       "      <th>75%</th>\n",
       "      <td>39688.750000</td>\n",
       "      <td>201508.000000</td>\n",
       "      <td>0.000000</td>\n",
       "      <td>0.000000</td>\n",
       "      <td>6.000000</td>\n",
       "      <td>9.589700e+04</td>\n",
       "      <td>21224.500000</td>\n",
       "      <td>11249.500000</td>\n",
       "      <td>89.300000</td>\n",
       "      <td>0.000000</td>\n",
       "      <td>...</td>\n",
       "      <td>100.000000</td>\n",
       "      <td>0.000000</td>\n",
       "      <td>34.000000</td>\n",
       "      <td>7.148200e+04</td>\n",
       "      <td>30900.000000</td>\n",
       "      <td>6.309350e+04</td>\n",
       "      <td>4.470000e+04</td>\n",
       "      <td>0.000000</td>\n",
       "      <td>2.423505e+05</td>\n",
       "      <td>2.842935e+05</td>\n",
       "    </tr>\n",
       "    <tr>\n",
       "      <th>max</th>\n",
       "      <td>52918.000000</td>\n",
       "      <td>201602.000000</td>\n",
       "      <td>1.000000</td>\n",
       "      <td>3.000000</td>\n",
       "      <td>40.000000</td>\n",
       "      <td>8.700000e+06</td>\n",
       "      <td>368681.000000</td>\n",
       "      <td>205543.000000</td>\n",
       "      <td>151.400000</td>\n",
       "      <td>6.000000</td>\n",
       "      <td>...</td>\n",
       "      <td>100.000000</td>\n",
       "      <td>15.000000</td>\n",
       "      <td>126.000000</td>\n",
       "      <td>2.652799e+06</td>\n",
       "      <td>834300.000000</td>\n",
       "      <td>1.269783e+06</td>\n",
       "      <td>1.641300e+06</td>\n",
       "      <td>296368.000000</td>\n",
       "      <td>4.127799e+06</td>\n",
       "      <td>4.392634e+06</td>\n",
       "    </tr>\n",
       "  </tbody>\n",
       "</table>\n",
       "<p>8 rows × 99 columns</p>\n",
       "</div>"
      ],
      "text/plain": [
       "         loanNumber  monthOriginated       default          var1  \\\n",
       "count  52918.000000     52918.000000  52918.000000  52918.000000   \n",
       "mean   26459.500000    201446.631449      0.091198      0.005480   \n",
       "std    15276.255109        88.982428      0.287893      0.077814   \n",
       "min        1.000000    201201.000000      0.000000      0.000000   \n",
       "25%    13230.250000    201405.000000      0.000000      0.000000   \n",
       "50%    26459.500000    201502.000000      0.000000      0.000000   \n",
       "75%    39688.750000    201508.000000      0.000000      0.000000   \n",
       "max    52918.000000    201602.000000      1.000000      3.000000   \n",
       "\n",
       "               var2          var4           var5           var6          var7  \\\n",
       "count  52619.000000  5.291800e+04   51879.000000   52174.000000  52139.000000   \n",
       "mean       4.618731  8.144960e+04   15329.111240    9164.297945     66.485729   \n",
       "std        3.076202  6.350256e+04   15747.599221   13505.183972     26.427349   \n",
       "min        0.000000  4.800000e+03       0.000000       0.000000      0.000000   \n",
       "25%        2.000000  5.289825e+04    4292.000000    1280.250000     48.200000   \n",
       "50%        4.000000  7.000000e+04   10637.000000    4263.000000     71.700000   \n",
       "75%        6.000000  9.589700e+04   21224.500000   11249.500000     89.300000   \n",
       "max       40.000000  8.700000e+06  368681.000000  205543.000000    151.400000   \n",
       "\n",
       "               var8  ...         var89         var90         var91  \\\n",
       "count  52918.000000  ...  52918.000000  52918.000000  52918.000000   \n",
       "mean       0.009467  ...     46.454477      0.047054     27.204713   \n",
       "std        0.108614  ...     41.849424      0.333253     11.768903   \n",
       "min        0.000000  ...    -10.000000      0.000000      2.000000   \n",
       "25%        0.000000  ...      7.000000      0.000000     19.000000   \n",
       "50%        0.000000  ...     30.000000      0.000000     26.000000   \n",
       "75%        0.000000  ...    100.000000      0.000000     34.000000   \n",
       "max        6.000000  ...    100.000000     15.000000    126.000000   \n",
       "\n",
       "              var92          var93         var94         var95          var96  \\\n",
       "count  5.261900e+04   52619.000000  5.187900e+04  5.187900e+04   51879.000000   \n",
       "mean   5.776432e+04   23441.117752  4.718874e+04  3.584723e+04     178.984194   \n",
       "std    4.994096e+04   20910.281548  4.483767e+04  3.282418e+04    1993.890078   \n",
       "min    0.000000e+00       0.000000  0.000000e+00  0.000000e+00       0.000000   \n",
       "25%    2.829600e+04    9600.000000  1.865300e+04  1.730000e+04       0.000000   \n",
       "50%    4.561500e+04   17500.000000  3.695300e+04  2.810000e+04       0.000000   \n",
       "75%    7.148200e+04   30900.000000  6.309350e+04  4.470000e+04       0.000000   \n",
       "max    2.652799e+06  834300.000000  1.269783e+06  1.641300e+06  296368.000000   \n",
       "\n",
       "              var97         var98  \n",
       "count  5.187900e+04  5.187900e+04  \n",
       "mean   1.661558e+05  2.003850e+05  \n",
       "std    1.570253e+05  1.721624e+05  \n",
       "min    0.000000e+00  8.000000e+02  \n",
       "25%    4.460750e+04  6.896850e+04  \n",
       "50%    1.276040e+05  1.598000e+05  \n",
       "75%    2.423505e+05  2.842935e+05  \n",
       "max    4.127799e+06  4.392634e+06  \n",
       "\n",
       "[8 rows x 99 columns]"
      ]
     },
     "execution_count": 2,
     "metadata": {},
     "output_type": "execute_result"
    }
   ],
   "source": [
    "loans_df = pd.read_csv('modeling_challenge_data_2017.12.27.csv')\n",
    "loans_df.describe()"
   ]
  },
  {
   "cell_type": "markdown",
   "metadata": {},
   "source": [
    "We process the date variables, so that we can use them in our model."
   ]
  },
  {
   "cell_type": "code",
   "execution_count": 3,
   "metadata": {},
   "outputs": [],
   "source": [
    "# some variables are dates:\n",
    "# monthOriginated, and var14\n",
    "\n",
    "# set the date column to be the date\n",
    "loans_df['var14'] = pd.to_datetime(loans_df['var14'])\n",
    "\n",
    "def date_covert(dstring):\n",
    "    dt_date = dt.datetime.strptime(str(dstring) + '01', '%Y%m%d')\n",
    "    return dt_date\n",
    "\n",
    "loans_df['monthOriginated'] = loans_df['monthOriginated'].apply(date_covert)\n",
    "\n",
    "def date_month(dt_date):\n",
    "    return dt_date.month\n",
    "\n",
    "def date_year(dt_date):\n",
    "    return dt_date.year\n",
    "\n",
    "def date_day(dt_date):\n",
    "    return dt_date.day\n",
    "\n",
    "#translate these date values into numbers, so that the machine learning models can work with them\n",
    "\n",
    "loans_df['Orig_month'] = loans_df['monthOriginated'].apply(date_month)\n",
    "loans_df['Orig_year'] = loans_df['monthOriginated'].apply(date_year)\n",
    "\n",
    "loans_df['var14_day'] = loans_df['var14'].apply(date_day)\n",
    "loans_df['var14_month'] = loans_df['var14'].apply(date_month)\n",
    "loans_df['var14_year'] = loans_df['var14'].apply(date_year)\n",
    "\n",
    "# var3 looks like State\n",
    "# we can assume that variables with only 1 and 0 values are only \"True\" or \"False\",\n",
    "# but except for the variable \"default\", we don't know what they mean\n",
    "# all other variables are numerical\n",
    "# it's hard to tell if some of the negative values should be dropped, \n",
    "# because we don't know what are they supposed to be encoding"
   ]
  },
  {
   "cell_type": "code",
   "execution_count": 4,
   "metadata": {},
   "outputs": [
    {
     "data": {
      "text/html": [
       "<div>\n",
       "<style scoped>\n",
       "    .dataframe tbody tr th:only-of-type {\n",
       "        vertical-align: middle;\n",
       "    }\n",
       "\n",
       "    .dataframe tbody tr th {\n",
       "        vertical-align: top;\n",
       "    }\n",
       "\n",
       "    .dataframe thead th {\n",
       "        text-align: right;\n",
       "    }\n",
       "</style>\n",
       "<table border=\"1\" class=\"dataframe\">\n",
       "  <thead>\n",
       "    <tr style=\"text-align: right;\">\n",
       "      <th></th>\n",
       "      <th>loanNumber</th>\n",
       "      <th>default</th>\n",
       "      <th>var1</th>\n",
       "      <th>var2</th>\n",
       "      <th>var4</th>\n",
       "      <th>var5</th>\n",
       "      <th>var6</th>\n",
       "      <th>var7</th>\n",
       "      <th>var8</th>\n",
       "      <th>var9</th>\n",
       "      <th>...</th>\n",
       "      <th>var94</th>\n",
       "      <th>var95</th>\n",
       "      <th>var96</th>\n",
       "      <th>var97</th>\n",
       "      <th>var98</th>\n",
       "      <th>Orig_month</th>\n",
       "      <th>Orig_year</th>\n",
       "      <th>var14_day</th>\n",
       "      <th>var14_month</th>\n",
       "      <th>var14_year</th>\n",
       "    </tr>\n",
       "  </thead>\n",
       "  <tbody>\n",
       "    <tr>\n",
       "      <th>count</th>\n",
       "      <td>52918.000000</td>\n",
       "      <td>52918.000000</td>\n",
       "      <td>52918.000000</td>\n",
       "      <td>52619.000000</td>\n",
       "      <td>5.291800e+04</td>\n",
       "      <td>51879.000000</td>\n",
       "      <td>52174.000000</td>\n",
       "      <td>52139.000000</td>\n",
       "      <td>52918.000000</td>\n",
       "      <td>52918.000000</td>\n",
       "      <td>...</td>\n",
       "      <td>5.187900e+04</td>\n",
       "      <td>5.187900e+04</td>\n",
       "      <td>51879.000000</td>\n",
       "      <td>5.187900e+04</td>\n",
       "      <td>5.187900e+04</td>\n",
       "      <td>52918.000000</td>\n",
       "      <td>52918.000000</td>\n",
       "      <td>52918.0</td>\n",
       "      <td>52918.000000</td>\n",
       "      <td>52918.000000</td>\n",
       "    </tr>\n",
       "    <tr>\n",
       "      <th>mean</th>\n",
       "      <td>26459.500000</td>\n",
       "      <td>0.091198</td>\n",
       "      <td>0.005480</td>\n",
       "      <td>4.618731</td>\n",
       "      <td>8.144960e+04</td>\n",
       "      <td>15329.111240</td>\n",
       "      <td>9164.297945</td>\n",
       "      <td>66.485729</td>\n",
       "      <td>0.009467</td>\n",
       "      <td>0.013625</td>\n",
       "      <td>...</td>\n",
       "      <td>4.718874e+04</td>\n",
       "      <td>3.584723e+04</td>\n",
       "      <td>178.984194</td>\n",
       "      <td>1.661558e+05</td>\n",
       "      <td>2.003850e+05</td>\n",
       "      <td>6.805680</td>\n",
       "      <td>2014.398258</td>\n",
       "      <td>1.0</td>\n",
       "      <td>6.709135</td>\n",
       "      <td>1997.317642</td>\n",
       "    </tr>\n",
       "    <tr>\n",
       "      <th>std</th>\n",
       "      <td>15276.255109</td>\n",
       "      <td>0.287893</td>\n",
       "      <td>0.077814</td>\n",
       "      <td>3.076202</td>\n",
       "      <td>6.350256e+04</td>\n",
       "      <td>15747.599221</td>\n",
       "      <td>13505.183972</td>\n",
       "      <td>26.427349</td>\n",
       "      <td>0.108614</td>\n",
       "      <td>0.128161</td>\n",
       "      <td>...</td>\n",
       "      <td>4.483767e+04</td>\n",
       "      <td>3.282418e+04</td>\n",
       "      <td>1993.890078</td>\n",
       "      <td>1.570253e+05</td>\n",
       "      <td>1.721624e+05</td>\n",
       "      <td>3.488582</td>\n",
       "      <td>0.895653</td>\n",
       "      <td>0.0</td>\n",
       "      <td>3.386876</td>\n",
       "      <td>7.126903</td>\n",
       "    </tr>\n",
       "    <tr>\n",
       "      <th>min</th>\n",
       "      <td>1.000000</td>\n",
       "      <td>0.000000</td>\n",
       "      <td>0.000000</td>\n",
       "      <td>0.000000</td>\n",
       "      <td>4.800000e+03</td>\n",
       "      <td>0.000000</td>\n",
       "      <td>0.000000</td>\n",
       "      <td>0.000000</td>\n",
       "      <td>0.000000</td>\n",
       "      <td>0.000000</td>\n",
       "      <td>...</td>\n",
       "      <td>0.000000e+00</td>\n",
       "      <td>0.000000e+00</td>\n",
       "      <td>0.000000</td>\n",
       "      <td>0.000000e+00</td>\n",
       "      <td>8.000000e+02</td>\n",
       "      <td>1.000000</td>\n",
       "      <td>2012.000000</td>\n",
       "      <td>1.0</td>\n",
       "      <td>1.000000</td>\n",
       "      <td>1944.000000</td>\n",
       "    </tr>\n",
       "    <tr>\n",
       "      <th>25%</th>\n",
       "      <td>13230.250000</td>\n",
       "      <td>0.000000</td>\n",
       "      <td>0.000000</td>\n",
       "      <td>2.000000</td>\n",
       "      <td>5.289825e+04</td>\n",
       "      <td>4292.000000</td>\n",
       "      <td>1280.250000</td>\n",
       "      <td>48.200000</td>\n",
       "      <td>0.000000</td>\n",
       "      <td>0.000000</td>\n",
       "      <td>...</td>\n",
       "      <td>1.865300e+04</td>\n",
       "      <td>1.730000e+04</td>\n",
       "      <td>0.000000</td>\n",
       "      <td>4.460750e+04</td>\n",
       "      <td>6.896850e+04</td>\n",
       "      <td>4.000000</td>\n",
       "      <td>2014.000000</td>\n",
       "      <td>1.0</td>\n",
       "      <td>4.000000</td>\n",
       "      <td>1994.000000</td>\n",
       "    </tr>\n",
       "    <tr>\n",
       "      <th>50%</th>\n",
       "      <td>26459.500000</td>\n",
       "      <td>0.000000</td>\n",
       "      <td>0.000000</td>\n",
       "      <td>4.000000</td>\n",
       "      <td>7.000000e+04</td>\n",
       "      <td>10637.000000</td>\n",
       "      <td>4263.000000</td>\n",
       "      <td>71.700000</td>\n",
       "      <td>0.000000</td>\n",
       "      <td>0.000000</td>\n",
       "      <td>...</td>\n",
       "      <td>3.695300e+04</td>\n",
       "      <td>2.810000e+04</td>\n",
       "      <td>0.000000</td>\n",
       "      <td>1.276040e+05</td>\n",
       "      <td>1.598000e+05</td>\n",
       "      <td>7.000000</td>\n",
       "      <td>2015.000000</td>\n",
       "      <td>1.0</td>\n",
       "      <td>7.000000</td>\n",
       "      <td>1999.000000</td>\n",
       "    </tr>\n",
       "    <tr>\n",
       "      <th>75%</th>\n",
       "      <td>39688.750000</td>\n",
       "      <td>0.000000</td>\n",
       "      <td>0.000000</td>\n",
       "      <td>6.000000</td>\n",
       "      <td>9.589700e+04</td>\n",
       "      <td>21224.500000</td>\n",
       "      <td>11249.500000</td>\n",
       "      <td>89.300000</td>\n",
       "      <td>0.000000</td>\n",
       "      <td>0.000000</td>\n",
       "      <td>...</td>\n",
       "      <td>6.309350e+04</td>\n",
       "      <td>4.470000e+04</td>\n",
       "      <td>0.000000</td>\n",
       "      <td>2.423505e+05</td>\n",
       "      <td>2.842935e+05</td>\n",
       "      <td>10.000000</td>\n",
       "      <td>2015.000000</td>\n",
       "      <td>1.0</td>\n",
       "      <td>10.000000</td>\n",
       "      <td>2002.000000</td>\n",
       "    </tr>\n",
       "    <tr>\n",
       "      <th>max</th>\n",
       "      <td>52918.000000</td>\n",
       "      <td>1.000000</td>\n",
       "      <td>3.000000</td>\n",
       "      <td>40.000000</td>\n",
       "      <td>8.700000e+06</td>\n",
       "      <td>368681.000000</td>\n",
       "      <td>205543.000000</td>\n",
       "      <td>151.400000</td>\n",
       "      <td>6.000000</td>\n",
       "      <td>4.000000</td>\n",
       "      <td>...</td>\n",
       "      <td>1.269783e+06</td>\n",
       "      <td>1.641300e+06</td>\n",
       "      <td>296368.000000</td>\n",
       "      <td>4.127799e+06</td>\n",
       "      <td>4.392634e+06</td>\n",
       "      <td>12.000000</td>\n",
       "      <td>2016.000000</td>\n",
       "      <td>1.0</td>\n",
       "      <td>12.000000</td>\n",
       "      <td>2012.000000</td>\n",
       "    </tr>\n",
       "  </tbody>\n",
       "</table>\n",
       "<p>8 rows × 103 columns</p>\n",
       "</div>"
      ],
      "text/plain": [
       "         loanNumber       default          var1          var2          var4  \\\n",
       "count  52918.000000  52918.000000  52918.000000  52619.000000  5.291800e+04   \n",
       "mean   26459.500000      0.091198      0.005480      4.618731  8.144960e+04   \n",
       "std    15276.255109      0.287893      0.077814      3.076202  6.350256e+04   \n",
       "min        1.000000      0.000000      0.000000      0.000000  4.800000e+03   \n",
       "25%    13230.250000      0.000000      0.000000      2.000000  5.289825e+04   \n",
       "50%    26459.500000      0.000000      0.000000      4.000000  7.000000e+04   \n",
       "75%    39688.750000      0.000000      0.000000      6.000000  9.589700e+04   \n",
       "max    52918.000000      1.000000      3.000000     40.000000  8.700000e+06   \n",
       "\n",
       "                var5           var6          var7          var8          var9  \\\n",
       "count   51879.000000   52174.000000  52139.000000  52918.000000  52918.000000   \n",
       "mean    15329.111240    9164.297945     66.485729      0.009467      0.013625   \n",
       "std     15747.599221   13505.183972     26.427349      0.108614      0.128161   \n",
       "min         0.000000       0.000000      0.000000      0.000000      0.000000   \n",
       "25%      4292.000000    1280.250000     48.200000      0.000000      0.000000   \n",
       "50%     10637.000000    4263.000000     71.700000      0.000000      0.000000   \n",
       "75%     21224.500000   11249.500000     89.300000      0.000000      0.000000   \n",
       "max    368681.000000  205543.000000    151.400000      6.000000      4.000000   \n",
       "\n",
       "       ...         var94         var95          var96         var97  \\\n",
       "count  ...  5.187900e+04  5.187900e+04   51879.000000  5.187900e+04   \n",
       "mean   ...  4.718874e+04  3.584723e+04     178.984194  1.661558e+05   \n",
       "std    ...  4.483767e+04  3.282418e+04    1993.890078  1.570253e+05   \n",
       "min    ...  0.000000e+00  0.000000e+00       0.000000  0.000000e+00   \n",
       "25%    ...  1.865300e+04  1.730000e+04       0.000000  4.460750e+04   \n",
       "50%    ...  3.695300e+04  2.810000e+04       0.000000  1.276040e+05   \n",
       "75%    ...  6.309350e+04  4.470000e+04       0.000000  2.423505e+05   \n",
       "max    ...  1.269783e+06  1.641300e+06  296368.000000  4.127799e+06   \n",
       "\n",
       "              var98    Orig_month     Orig_year  var14_day   var14_month  \\\n",
       "count  5.187900e+04  52918.000000  52918.000000    52918.0  52918.000000   \n",
       "mean   2.003850e+05      6.805680   2014.398258        1.0      6.709135   \n",
       "std    1.721624e+05      3.488582      0.895653        0.0      3.386876   \n",
       "min    8.000000e+02      1.000000   2012.000000        1.0      1.000000   \n",
       "25%    6.896850e+04      4.000000   2014.000000        1.0      4.000000   \n",
       "50%    1.598000e+05      7.000000   2015.000000        1.0      7.000000   \n",
       "75%    2.842935e+05     10.000000   2015.000000        1.0     10.000000   \n",
       "max    4.392634e+06     12.000000   2016.000000        1.0     12.000000   \n",
       "\n",
       "         var14_year  \n",
       "count  52918.000000  \n",
       "mean    1997.317642  \n",
       "std        7.126903  \n",
       "min     1944.000000  \n",
       "25%     1994.000000  \n",
       "50%     1999.000000  \n",
       "75%     2002.000000  \n",
       "max     2012.000000  \n",
       "\n",
       "[8 rows x 103 columns]"
      ]
     },
     "execution_count": 4,
     "metadata": {},
     "output_type": "execute_result"
    }
   ],
   "source": [
    "loans_df.describe()"
   ]
  },
  {
   "cell_type": "markdown",
   "metadata": {},
   "source": [
    "As we can see, some data is missing.\n",
    "\n",
    "For now, for missing values, we fill the missing values in the given column with an average for the given column.\n",
    "We remove the values where this operation wouldn't make sense (for example, date variables, or state variable)."
   ]
  },
  {
   "cell_type": "code",
   "execution_count": 5,
   "metadata": {},
   "outputs": [],
   "source": [
    "columns_names = list(loans_df.columns.values)\n",
    "\n",
    "columns_names.remove('monthOriginated')\n",
    "columns_names.remove('default')\n",
    "columns_names.remove('var3')\n",
    "columns_names.remove('var14')\n",
    "columns_names.remove('loanNumber')\n",
    "\n",
    "\n",
    "for col in columns_names:\n",
    "    loans_df[col] = loans_df[col].fillna(loans_df[col].mean(), axis = 0)\n",
    "\n",
    "loans_df.describe()\n",
    "\n",
    "\n",
    "loans_df['loanNumber'] = loans_df.index"
   ]
  },
  {
   "cell_type": "markdown",
   "metadata": {},
   "source": [
    "In this model that we are constructing, the variable 'Default' will be the dependent variable. Our model will be treating the other variables as independent variables.\n",
    "\n",
    "For that reason, we want to check if some variables are correlated already."
   ]
  },
  {
   "cell_type": "code",
   "execution_count": 6,
   "metadata": {},
   "outputs": [
    {
     "data": {
      "image/png": "[encoded data removed]",
      "text/plain": [
       "<Figure size 1440x1080 with 2 Axes>"
      ]
     },
     "metadata": {},
     "output_type": "display_data"
    }
   ],
   "source": [
    "# plot a heatmap to see if the variables are not somewhat correlated\n",
    "\n",
    "import seaborn as sns\n",
    "\n",
    "sns.set(style=\"white\")\n",
    "sns.set(style=\"whitegrid\", color_codes=True)\n",
    "\n",
    "import matplotlib.pyplot as plt \n",
    "\n",
    "plt.figure(figsize = (20, 15))\n",
    "\n",
    "# also, get a csv to see if there is something obviously wrong with the data and correlations\n",
    "loans_df.to_csv('loans_num_data.csv')\n",
    "\n",
    "correls = loans_df.corr()\n",
    "correls.to_csv('correls.csv')\n",
    "\n",
    "sns.heatmap(loans_df.corr()).set_title('Variables correlations heatmap')\n",
    "\n",
    "plt.show()\n"
   ]
  },
  {
   "cell_type": "markdown",
   "metadata": {},
   "source": [
    "It turns out that some variables can be dropped:\n",
    "\n",
    "- var14_day is always 1, so it won't help us\n",
    "- var19, var75 are always 0, so they also won't help us with predicting the loan default\n"
   ]
  },
  {
   "cell_type": "code",
   "execution_count": 7,
   "metadata": {},
   "outputs": [
    {
     "data": {
      "image/png": "[encoded data removed]",
      "text/plain": [
       "<Figure size 1440x1080 with 2 Axes>"
      ]
     },
     "metadata": {},
     "output_type": "display_data"
    }
   ],
   "source": [
    "loans_df.drop(['var14_day', 'var19', 'var75'], inplace=True, axis=1, errors = 'ignore')\n",
    "\n",
    "# we also drop the columns that can't be used in calculating correlations, because they are not numeric\n",
    "loans_df.drop(['monthOriginated', 'var3','var14' ], inplace=True, axis=1, errors = 'ignore')\n",
    "\n",
    "\n",
    "plt.figure(figsize = (20, 15))\n",
    "\n",
    "\n",
    "correls = loans_df.corr()\n",
    "correls.to_csv('correls.csv')\n",
    "\n",
    "sns.heatmap(loans_df.corr()).set_title('Variables correlations heatmap')\n",
    "\n",
    "plt.show()\n"
   ]
  },
  {
   "cell_type": "markdown",
   "metadata": {},
   "source": [
    "Some of the correlations can be explained already, and some variables can be dropped:\n",
    "- loanNumber and orig_year are highly correlated, because loan numbers increase as time passes. The identifier shouldn't have an impact on whether or not the borrower defaults, but the time when the loan was underwritten could have an impact. So, we will drop loanNumber.\n",
    "- var16 is highly correlated with var17: var17 seems to be the value in var16, but rounded to the nearest integer less or equal to var16 divisible by 5. Therefore, var17 can be dropped.\n",
    "- var38 is highly correlated with var18; the values are close, but var18 has more data present. So, var38 can be dropped.\n",
    "- same for var59 and var1: therefore, var59 can be dropped."
   ]
  },
  {
   "cell_type": "code",
   "execution_count": 11,
   "metadata": {},
   "outputs": [],
   "source": [
    "loans_df.drop(['var17', 'loanNumber', 'var38', 'var59'], inplace=True, axis=1, errors = 'ignore')"
   ]
  },
  {
   "cell_type": "code",
   "execution_count": 12,
   "metadata": {},
   "outputs": [
    {
     "name": "stderr",
     "output_type": "stream",
     "text": [
      "-c:11: FutureWarning: The signature of `Series.to_csv` was aligned to that of `DataFrame.to_csv`, and argument 'header' will change its default value from False to True: please pass an explicit value to suppress this warning.\n"
     ]
    }
   ],
   "source": [
    "# check Variance Inflation Factors (VIF) among the variables used in this regression\n",
    "\n",
    "from statsmodels.stats.outliers_influence import variance_inflation_factor\n",
    "from statsmodels.tools.tools import add_constant\n",
    "\n",
    "\n",
    "X = add_constant(loans_df)\n",
    "vif_results = pd.Series([variance_inflation_factor(X.values, i) \n",
    "           for i in range(X.shape[1])], \n",
    "              index=X.columns)\n",
    "vif_results.to_csv('cp_test_vif_results.csv')"
   ]
  },
  {
   "cell_type": "markdown",
   "metadata": {},
   "source": [
    "The Variance Inflation Factor (VIF) test tests for possible multicollinearity of the factors used in the model.\n",
    "For variables where VIF is high, this is an indication that they don't need to be used in the model."
   ]
  },
  {
   "cell_type": "markdown",
   "metadata": {},
   "source": [
    "##  2. Find which model performs the best"
   ]
  },
  {
   "cell_type": "markdown",
   "metadata": {},
   "source": [
    "We will first try simpler models that are easy to understand. Then, we will experiment with more complex models, and see if they perform better."
   ]
  },
  {
   "cell_type": "markdown",
   "metadata": {},
   "source": [
    "## Logistic Regression"
   ]
  },
  {
   "cell_type": "code",
   "execution_count": 13,
   "metadata": {},
   "outputs": [
    {
     "data": {
      "text/html": [
       "<div>\n",
       "<style scoped>\n",
       "    .dataframe tbody tr th:only-of-type {\n",
       "        vertical-align: middle;\n",
       "    }\n",
       "\n",
       "    .dataframe tbody tr th {\n",
       "        vertical-align: top;\n",
       "    }\n",
       "\n",
       "    .dataframe thead th {\n",
       "        text-align: right;\n",
       "    }\n",
       "</style>\n",
       "<table border=\"1\" class=\"dataframe\">\n",
       "  <thead>\n",
       "    <tr style=\"text-align: right;\">\n",
       "      <th></th>\n",
       "      <th>default</th>\n",
       "      <th>var1</th>\n",
       "      <th>var2</th>\n",
       "      <th>var4</th>\n",
       "      <th>var5</th>\n",
       "      <th>var6</th>\n",
       "      <th>var7</th>\n",
       "      <th>var8</th>\n",
       "      <th>var9</th>\n",
       "      <th>var10</th>\n",
       "      <th>...</th>\n",
       "      <th>var93</th>\n",
       "      <th>var94</th>\n",
       "      <th>var95</th>\n",
       "      <th>var96</th>\n",
       "      <th>var97</th>\n",
       "      <th>var98</th>\n",
       "      <th>Orig_month</th>\n",
       "      <th>Orig_year</th>\n",
       "      <th>var14_month</th>\n",
       "      <th>var14_year</th>\n",
       "    </tr>\n",
       "  </thead>\n",
       "  <tbody>\n",
       "    <tr>\n",
       "      <th>count</th>\n",
       "      <td>52918.000000</td>\n",
       "      <td>52918.000000</td>\n",
       "      <td>52918.000000</td>\n",
       "      <td>5.291800e+04</td>\n",
       "      <td>52918.000000</td>\n",
       "      <td>52918.000000</td>\n",
       "      <td>52918.000000</td>\n",
       "      <td>52918.000000</td>\n",
       "      <td>52918.000000</td>\n",
       "      <td>52918.000000</td>\n",
       "      <td>...</td>\n",
       "      <td>52918.000000</td>\n",
       "      <td>5.291800e+04</td>\n",
       "      <td>5.291800e+04</td>\n",
       "      <td>52918.000000</td>\n",
       "      <td>5.291800e+04</td>\n",
       "      <td>5.291800e+04</td>\n",
       "      <td>52918.000000</td>\n",
       "      <td>52918.000000</td>\n",
       "      <td>52918.000000</td>\n",
       "      <td>52918.000000</td>\n",
       "    </tr>\n",
       "    <tr>\n",
       "      <th>mean</th>\n",
       "      <td>0.091198</td>\n",
       "      <td>0.005480</td>\n",
       "      <td>4.618731</td>\n",
       "      <td>8.144960e+04</td>\n",
       "      <td>15329.111240</td>\n",
       "      <td>9164.297945</td>\n",
       "      <td>66.485729</td>\n",
       "      <td>0.009467</td>\n",
       "      <td>0.013625</td>\n",
       "      <td>0.321535</td>\n",
       "      <td>...</td>\n",
       "      <td>23441.117752</td>\n",
       "      <td>4.718874e+04</td>\n",
       "      <td>3.584723e+04</td>\n",
       "      <td>178.984194</td>\n",
       "      <td>1.661558e+05</td>\n",
       "      <td>2.003850e+05</td>\n",
       "      <td>6.805680</td>\n",
       "      <td>2014.398258</td>\n",
       "      <td>6.709135</td>\n",
       "      <td>1997.317642</td>\n",
       "    </tr>\n",
       "    <tr>\n",
       "      <th>std</th>\n",
       "      <td>0.287893</td>\n",
       "      <td>0.077814</td>\n",
       "      <td>3.067498</td>\n",
       "      <td>6.350256e+04</td>\n",
       "      <td>15592.234521</td>\n",
       "      <td>13409.908116</td>\n",
       "      <td>26.232107</td>\n",
       "      <td>0.108614</td>\n",
       "      <td>0.128161</td>\n",
       "      <td>0.864653</td>\n",
       "      <td>...</td>\n",
       "      <td>20851.122572</td>\n",
       "      <td>4.439531e+04</td>\n",
       "      <td>3.250034e+04</td>\n",
       "      <td>1974.218499</td>\n",
       "      <td>1.554761e+05</td>\n",
       "      <td>1.704638e+05</td>\n",
       "      <td>3.488582</td>\n",
       "      <td>0.895653</td>\n",
       "      <td>3.386876</td>\n",
       "      <td>7.126903</td>\n",
       "    </tr>\n",
       "    <tr>\n",
       "      <th>min</th>\n",
       "      <td>0.000000</td>\n",
       "      <td>0.000000</td>\n",
       "      <td>0.000000</td>\n",
       "      <td>4.800000e+03</td>\n",
       "      <td>0.000000</td>\n",
       "      <td>0.000000</td>\n",
       "      <td>0.000000</td>\n",
       "      <td>0.000000</td>\n",
       "      <td>0.000000</td>\n",
       "      <td>0.000000</td>\n",
       "      <td>...</td>\n",
       "      <td>0.000000</td>\n",
       "      <td>0.000000e+00</td>\n",
       "      <td>0.000000e+00</td>\n",
       "      <td>0.000000</td>\n",
       "      <td>0.000000e+00</td>\n",
       "      <td>8.000000e+02</td>\n",
       "      <td>1.000000</td>\n",
       "      <td>2012.000000</td>\n",
       "      <td>1.000000</td>\n",
       "      <td>1944.000000</td>\n",
       "    </tr>\n",
       "    <tr>\n",
       "      <th>25%</th>\n",
       "      <td>0.000000</td>\n",
       "      <td>0.000000</td>\n",
       "      <td>2.000000</td>\n",
       "      <td>5.289825e+04</td>\n",
       "      <td>4371.250000</td>\n",
       "      <td>1310.000000</td>\n",
       "      <td>48.600000</td>\n",
       "      <td>0.000000</td>\n",
       "      <td>0.000000</td>\n",
       "      <td>0.000000</td>\n",
       "      <td>...</td>\n",
       "      <td>9700.000000</td>\n",
       "      <td>1.904425e+04</td>\n",
       "      <td>1.750000e+04</td>\n",
       "      <td>0.000000</td>\n",
       "      <td>4.541850e+04</td>\n",
       "      <td>7.003175e+04</td>\n",
       "      <td>4.000000</td>\n",
       "      <td>2014.000000</td>\n",
       "      <td>4.000000</td>\n",
       "      <td>1994.000000</td>\n",
       "    </tr>\n",
       "    <tr>\n",
       "      <th>50%</th>\n",
       "      <td>0.000000</td>\n",
       "      <td>0.000000</td>\n",
       "      <td>4.000000</td>\n",
       "      <td>7.000000e+04</td>\n",
       "      <td>11017.500000</td>\n",
       "      <td>4395.000000</td>\n",
       "      <td>71.100000</td>\n",
       "      <td>0.000000</td>\n",
       "      <td>0.000000</td>\n",
       "      <td>0.000000</td>\n",
       "      <td>...</td>\n",
       "      <td>17600.000000</td>\n",
       "      <td>3.775350e+04</td>\n",
       "      <td>2.860000e+04</td>\n",
       "      <td>0.000000</td>\n",
       "      <td>1.322505e+05</td>\n",
       "      <td>1.644850e+05</td>\n",
       "      <td>7.000000</td>\n",
       "      <td>2015.000000</td>\n",
       "      <td>7.000000</td>\n",
       "      <td>1999.000000</td>\n",
       "    </tr>\n",
       "    <tr>\n",
       "      <th>75%</th>\n",
       "      <td>0.000000</td>\n",
       "      <td>0.000000</td>\n",
       "      <td>6.000000</td>\n",
       "      <td>9.589700e+04</td>\n",
       "      <td>20970.750000</td>\n",
       "      <td>11078.000000</td>\n",
       "      <td>89.000000</td>\n",
       "      <td>0.000000</td>\n",
       "      <td>0.000000</td>\n",
       "      <td>0.000000</td>\n",
       "      <td>...</td>\n",
       "      <td>30800.000000</td>\n",
       "      <td>6.232900e+04</td>\n",
       "      <td>4.420000e+04</td>\n",
       "      <td>0.000000</td>\n",
       "      <td>2.398220e+05</td>\n",
       "      <td>2.812265e+05</td>\n",
       "      <td>10.000000</td>\n",
       "      <td>2015.000000</td>\n",
       "      <td>10.000000</td>\n",
       "      <td>2002.000000</td>\n",
       "    </tr>\n",
       "    <tr>\n",
       "      <th>max</th>\n",
       "      <td>1.000000</td>\n",
       "      <td>3.000000</td>\n",
       "      <td>40.000000</td>\n",
       "      <td>8.700000e+06</td>\n",
       "      <td>368681.000000</td>\n",
       "      <td>205543.000000</td>\n",
       "      <td>151.400000</td>\n",
       "      <td>6.000000</td>\n",
       "      <td>4.000000</td>\n",
       "      <td>26.000000</td>\n",
       "      <td>...</td>\n",
       "      <td>834300.000000</td>\n",
       "      <td>1.269783e+06</td>\n",
       "      <td>1.641300e+06</td>\n",
       "      <td>296368.000000</td>\n",
       "      <td>4.127799e+06</td>\n",
       "      <td>4.392634e+06</td>\n",
       "      <td>12.000000</td>\n",
       "      <td>2016.000000</td>\n",
       "      <td>12.000000</td>\n",
       "      <td>2012.000000</td>\n",
       "    </tr>\n",
       "  </tbody>\n",
       "</table>\n",
       "<p>8 rows × 96 columns</p>\n",
       "</div>"
      ],
      "text/plain": [
       "            default          var1          var2          var4           var5  \\\n",
       "count  52918.000000  52918.000000  52918.000000  5.291800e+04   52918.000000   \n",
       "mean       0.091198      0.005480      4.618731  8.144960e+04   15329.111240   \n",
       "std        0.287893      0.077814      3.067498  6.350256e+04   15592.234521   \n",
       "min        0.000000      0.000000      0.000000  4.800000e+03       0.000000   \n",
       "25%        0.000000      0.000000      2.000000  5.289825e+04    4371.250000   \n",
       "50%        0.000000      0.000000      4.000000  7.000000e+04   11017.500000   \n",
       "75%        0.000000      0.000000      6.000000  9.589700e+04   20970.750000   \n",
       "max        1.000000      3.000000     40.000000  8.700000e+06  368681.000000   \n",
       "\n",
       "                var6          var7          var8          var9         var10  \\\n",
       "count   52918.000000  52918.000000  52918.000000  52918.000000  52918.000000   \n",
       "mean     9164.297945     66.485729      0.009467      0.013625      0.321535   \n",
       "std     13409.908116     26.232107      0.108614      0.128161      0.864653   \n",
       "min         0.000000      0.000000      0.000000      0.000000      0.000000   \n",
       "25%      1310.000000     48.600000      0.000000      0.000000      0.000000   \n",
       "50%      4395.000000     71.100000      0.000000      0.000000      0.000000   \n",
       "75%     11078.000000     89.000000      0.000000      0.000000      0.000000   \n",
       "max    205543.000000    151.400000      6.000000      4.000000     26.000000   \n",
       "\n",
       "       ...          var93         var94         var95          var96  \\\n",
       "count  ...   52918.000000  5.291800e+04  5.291800e+04   52918.000000   \n",
       "mean   ...   23441.117752  4.718874e+04  3.584723e+04     178.984194   \n",
       "std    ...   20851.122572  4.439531e+04  3.250034e+04    1974.218499   \n",
       "min    ...       0.000000  0.000000e+00  0.000000e+00       0.000000   \n",
       "25%    ...    9700.000000  1.904425e+04  1.750000e+04       0.000000   \n",
       "50%    ...   17600.000000  3.775350e+04  2.860000e+04       0.000000   \n",
       "75%    ...   30800.000000  6.232900e+04  4.420000e+04       0.000000   \n",
       "max    ...  834300.000000  1.269783e+06  1.641300e+06  296368.000000   \n",
       "\n",
       "              var97         var98    Orig_month     Orig_year   var14_month  \\\n",
       "count  5.291800e+04  5.291800e+04  52918.000000  52918.000000  52918.000000   \n",
       "mean   1.661558e+05  2.003850e+05      6.805680   2014.398258      6.709135   \n",
       "std    1.554761e+05  1.704638e+05      3.488582      0.895653      3.386876   \n",
       "min    0.000000e+00  8.000000e+02      1.000000   2012.000000      1.000000   \n",
       "25%    4.541850e+04  7.003175e+04      4.000000   2014.000000      4.000000   \n",
       "50%    1.322505e+05  1.644850e+05      7.000000   2015.000000      7.000000   \n",
       "75%    2.398220e+05  2.812265e+05     10.000000   2015.000000     10.000000   \n",
       "max    4.127799e+06  4.392634e+06     12.000000   2016.000000     12.000000   \n",
       "\n",
       "         var14_year  \n",
       "count  52918.000000  \n",
       "mean    1997.317642  \n",
       "std        7.126903  \n",
       "min     1944.000000  \n",
       "25%     1994.000000  \n",
       "50%     1999.000000  \n",
       "75%     2002.000000  \n",
       "max     2012.000000  \n",
       "\n",
       "[8 rows x 96 columns]"
      ]
     },
     "execution_count": 13,
     "metadata": {},
     "output_type": "execute_result"
    }
   ],
   "source": [
    "loans_df.describe()"
   ]
  },
  {
   "cell_type": "code",
   "execution_count": 14,
   "metadata": {},
   "outputs": [
    {
     "name": "stdout",
     "output_type": "stream",
     "text": [
      "47626\n"
     ]
    },
    {
     "name": "stderr",
     "output_type": "stream",
     "text": [
      "/Users/ninakuklisova/miniconda2/envs/jupi_modern/lib/python2.7/site-packages/sklearn/linear_model/logistic.py:433: FutureWarning: Default solver will be changed to 'lbfgs' in 0.22. Specify a solver to silence this warning.\n",
      "  FutureWarning)\n"
     ]
    },
    {
     "name": "stdout",
     "output_type": "stream",
     "text": [
      "LogisticRegression score: 0.859788\n",
      "Variables with highest importance (top 10): \n",
      "    coefficient parameter  coef_abs\n",
      "22     0.006537     var27  0.006537\n",
      "38    -0.001729     var44  0.001729\n",
      "13    -0.001698     var16  0.001698\n",
      "81    -0.001392     var89  0.001392\n",
      "14    -0.001245     var18  0.001245\n",
      "32    -0.000892     var37  0.000892\n",
      "33    -0.000854     var39  0.000854\n",
      "34    -0.000513     var40  0.000513\n",
      "25     0.000463     var30  0.000463\n",
      "10    -0.000450     var12  0.000450\n"
     ]
    }
   ],
   "source": [
    "from sklearn import linear_model\n",
    "\n",
    "# select just the corresponding data for logistic regression\n",
    "\n",
    "# we will drop the columns that won't help us\n",
    "\n",
    "loan_outcome = loans_df['default']\n",
    "loan_parameters = loans_df.loc[:, loans_df.columns != 'default']\n",
    "\n",
    "# see how does the model perform\n",
    "\n",
    "n_samples = len(loan_outcome)\n",
    "threshold = int(.9*n_samples)\n",
    "print(threshold)\n",
    "\n",
    "# we train on the first 90% of the sample size,\n",
    "# and use 10 % for testing the model performance\n",
    "X_train = loan_parameters[:threshold]\n",
    "y_train = loan_outcome[:threshold]\n",
    "X_test = loan_parameters[threshold:]\n",
    "y_test = loan_outcome[threshold:]\n",
    "\n",
    "logistic = linear_model.LogisticRegression(max_iter=7600)\n",
    "\n",
    "print('LogisticRegression score: %f'\n",
    "      % logistic.fit(X_train, y_train).score(X_test, y_test))\n",
    "\n",
    "#look at coefficients with the highest value\n",
    "results_df = pd.DataFrame(\n",
    "    {'parameter': loan_parameters.columns,\n",
    "     'coefficient': logistic.coef_[0,:]\n",
    "    })\n",
    "\n",
    "results_df['coef_abs'] = results_df['coefficient'].abs()\n",
    "\n",
    "print('Variables with highest importance (top 10): ')\n",
    "\n",
    "results_df = results_df.sort_values(by=['coef_abs'], ascending=False)\n",
    "print(results_df[:10])"
   ]
  },
  {
   "cell_type": "markdown",
   "metadata": {},
   "source": [
    "So, according to logistic regression, these are the most important variables in this model.\n",
    "\n",
    "Let's try another model and see if we can get predictions that will be more accurate."
   ]
  },
  {
   "cell_type": "markdown",
   "metadata": {},
   "source": [
    "## Decision Tree "
   ]
  },
  {
   "cell_type": "code",
   "execution_count": 15,
   "metadata": {},
   "outputs": [],
   "source": [
    "from sklearn import tree\n",
    "from sklearn.tree import DecisionTreeClassifier\n",
    "from sklearn.ensemble import RandomForestClassifier \n",
    "from sklearn.ensemble import AdaBoostClassifier "
   ]
  },
  {
   "cell_type": "code",
   "execution_count": 16,
   "metadata": {},
   "outputs": [
    {
     "name": "stdout",
     "output_type": "stream",
     "text": [
      "Accuracy (a decision tree with information gain used for measuring the quality of the split): 0.7976190476190477\n",
      "Accuracy (a decision tree with Gini impurity used for measuring the quality of the split): 0.7883597883597884\n"
     ]
    }
   ],
   "source": [
    "dt_e = DecisionTreeClassifier(criterion=\"entropy\", splitter=\"best\", random_state=0)\n",
    "\n",
    "dt_e.fit(X_train, y_train)\n",
    "\n",
    "print 'Accuracy (a decision tree with information gain used for measuring the quality of the split):', dt_e.score(X_test, y_test)\n",
    "\n",
    "dt_g = DecisionTreeClassifier(criterion=\"gini\", splitter=\"best\", random_state=0)\n",
    "\n",
    "dt_g.fit(X_train, y_train)\n",
    "\n",
    "print 'Accuracy (a decision tree with Gini impurity used for measuring the quality of the split):', dt_g.score(X_test, y_test)\n",
    "\n"
   ]
  },
  {
   "cell_type": "markdown",
   "metadata": {},
   "source": [
    "The Decision Tree model didn't outperform Logistic Resgression. This might be due to overfitting that can sometimes happen for decision trees."
   ]
  },
  {
   "cell_type": "markdown",
   "metadata": {},
   "source": [
    "## Random Forest "
   ]
  },
  {
   "cell_type": "markdown",
   "metadata": {},
   "source": [
    "Since the performance of Decision Trees didn't outperform Logistic Regression, we shall try more advanced methods.\n",
    "Because Decision Trees sometimes overfit to the data that was available and then perform poorly on test data,\n",
    "we can try Random Forests to prevent this problem.\n",
    "We can try the Random Forests with different number of estimators."
   ]
  },
  {
   "cell_type": "code",
   "execution_count": 18,
   "metadata": {},
   "outputs": [
    {
     "name": "stdout",
     "output_type": "stream",
     "text": [
      "Accuracy (a random forest with 100 estimators): 0.859599395313681\n",
      "Accuracy (a random forest with 90 estimators): 0.8592214663643235\n",
      "Accuracy (a random forest with 95 estimators): 0.859599395313681\n"
     ]
    }
   ],
   "source": [
    "rfc_100 = RandomForestClassifier(n_estimators=100)\n",
    "#rfc.fit(train_data, train_labels)\n",
    "rfc_100.fit(X_train, y_train)\n",
    "\n",
    "print 'Accuracy (a random forest with 100 estimators):', rfc_100.score(X_test, y_test)\n",
    "\n",
    "rfc_90 = RandomForestClassifier(n_estimators=90)\n",
    "#rfc.fit(train_data, train_labels)\n",
    "rfc_90.fit(X_train, y_train)\n",
    "\n",
    "print 'Accuracy (a random forest with 90 estimators):', rfc_90.score(X_test, y_test)\n",
    "\n",
    "rfc_95 = RandomForestClassifier(n_estimators=95)\n",
    "#rfc.fit(train_data, train_labels)\n",
    "rfc_95.fit(X_train, y_train)\n",
    "\n",
    "print 'Accuracy (a random forest with 95 estimators):', rfc_95.score(X_test, y_test)"
   ]
  },
  {
   "cell_type": "markdown",
   "metadata": {},
   "source": [
    "So, we see we get a different accuracy of predictions depending on the number of estimators.\n",
    "Let's see what is the optimal number."
   ]
  },
  {
   "cell_type": "markdown",
   "metadata": {},
   "source": [
    "The code below will run a more complete search."
   ]
  },
  {
   "cell_type": "code",
   "execution_count": 30,
   "metadata": {},
   "outputs": [
    {
     "data": {
      "text/plain": [
       "GridSearchCV(cv=3, error_score='raise-deprecating',\n",
       "       estimator=RandomForestClassifier(bootstrap=True, class_weight=None, criterion='gini',\n",
       "            max_depth=None, max_features='auto', max_leaf_nodes=None,\n",
       "            min_impurity_decrease=0.0, min_impurity_split=None,\n",
       "            min_samples_leaf=1, min_samples_split=2,\n",
       "            min_weight_fraction_leaf=0.0, n_estimators='warn', n_jobs=None,\n",
       "            oob_score=False, random_state=None, verbose=0,\n",
       "            warm_start=False),\n",
       "       fit_params=None, iid='warn', n_jobs=-1,\n",
       "       param_grid={'n_estimators': [80, 90, 100], 'max_depth': [5, 8, 15], 'min_samples_leaf': [1, 2, 4]},\n",
       "       pre_dispatch='2*n_jobs', refit=True, return_train_score='warn',\n",
       "       scoring=None, verbose=0)"
      ]
     },
     "execution_count": 30,
     "metadata": {},
     "output_type": "execute_result"
    }
   ],
   "source": [
    "from sklearn.model_selection import GridSearchCV\n",
    "\n",
    "gridsearch_forest = RandomForestClassifier()\n",
    "\n",
    "params = {\n",
    "    \"n_estimators\": [80, 90, 100],\n",
    "    \"max_depth\": [5,8,15],\n",
    "    \"min_samples_leaf\" : [1, 2, 4]\n",
    "}\n",
    "\n",
    "clf = GridSearchCV(gridsearch_forest, param_grid=params, n_jobs=-1, cv=3 )\n",
    "clf.fit(X_train, y_train)"
   ]
  },
  {
   "cell_type": "code",
   "execution_count": 31,
   "metadata": {},
   "outputs": [
    {
     "data": {
      "text/plain": [
       "{'max_depth': 5, 'min_samples_leaf': 1, 'n_estimators': 80}"
      ]
     },
     "execution_count": 31,
     "metadata": {},
     "output_type": "execute_result"
    }
   ],
   "source": [
    "clf.best_params_"
   ]
  },
  {
   "cell_type": "code",
   "execution_count": 32,
   "metadata": {},
   "outputs": [
    {
     "data": {
      "text/plain": [
       "0.9142905135850166"
      ]
     },
     "execution_count": 32,
     "metadata": {},
     "output_type": "execute_result"
    }
   ],
   "source": [
    "clf.best_score_"
   ]
  },
  {
   "cell_type": "code",
   "execution_count": 33,
   "metadata": {},
   "outputs": [
    {
     "data": {
      "text/plain": [
       "RandomForestClassifier(bootstrap=True, class_weight=None, criterion='gini',\n",
       "            max_depth=5, max_features='auto', max_leaf_nodes=None,\n",
       "            min_impurity_decrease=0.0, min_impurity_split=None,\n",
       "            min_samples_leaf=1, min_samples_split=2,\n",
       "            min_weight_fraction_leaf=0.0, n_estimators=80, n_jobs=None,\n",
       "            oob_score=False, random_state=None, verbose=0,\n",
       "            warm_start=False)"
      ]
     },
     "execution_count": 33,
     "metadata": {},
     "output_type": "execute_result"
    }
   ],
   "source": [
    "clf.best_estimator_"
   ]
  },
  {
   "cell_type": "markdown",
   "metadata": {},
   "source": [
    "## AdaBoost "
   ]
  },
  {
   "cell_type": "markdown",
   "metadata": {},
   "source": [
    "We see that a tree bagging method can perform pretty well.\n",
    "\n",
    "We can try also some boosting methods. Let's start with the AdaBoost."
   ]
  },
  {
   "cell_type": "code",
   "execution_count": 34,
   "metadata": {},
   "outputs": [
    {
     "name": "stdout",
     "output_type": "stream",
     "text": [
      "Accuracy (adaboost with decision trees): 0.8573318216175358\n"
     ]
    }
   ],
   "source": [
    "abc = AdaBoostClassifier(base_estimator=DecisionTreeClassifier(max_depth=5), n_estimators=109, learning_rate=0.1)\n",
    "\n",
    "abc.fit(X_train, y_train)\n",
    "print 'Accuracy (adaboost with decision trees):', abc.score(X_test, y_test)"
   ]
  },
  {
   "cell_type": "markdown",
   "metadata": {},
   "source": [
    "This didn't outperform the random forest. Let's try another boosting method."
   ]
  },
  {
   "cell_type": "markdown",
   "metadata": {},
   "source": [
    "## Gradient Boost"
   ]
  },
  {
   "cell_type": "markdown",
   "metadata": {},
   "source": [
    "It will be interesting to compare the accuracy of Gradient Boosting with the previous methods."
   ]
  },
  {
   "cell_type": "code",
   "execution_count": 35,
   "metadata": {},
   "outputs": [
    {
     "name": "stdout",
     "output_type": "stream",
     "text": [
      "Accuracy (Gradient Boost): 0.8597883597883598\n"
     ]
    }
   ],
   "source": [
    "from sklearn.ensemble import GradientBoostingClassifier\n",
    "\n",
    "clf = GradientBoostingClassifier(n_estimators=109, learning_rate=1.0, max_depth=1, random_state=0)\n",
    "clf.fit(X_train, y_train)\n",
    "\n",
    "print 'Accuracy (Gradient Boost):', clf.score(X_test, y_test)                 "
   ]
  },
  {
   "cell_type": "markdown",
   "metadata": {},
   "source": [
    "Again, here is another Grid Search that could help us increase accuracy."
   ]
  },
  {
   "cell_type": "code",
   "execution_count": 36,
   "metadata": {
    "scrolled": true
   },
   "outputs": [
    {
     "data": {
      "text/plain": [
       "GridSearchCV(cv=3, error_score='raise-deprecating',\n",
       "       estimator=GradientBoostingClassifier(criterion='friedman_mse', init=None,\n",
       "              learning_rate=0.1, loss='deviance', max_depth=3,\n",
       "              max_features=None, max_leaf_nodes=None,\n",
       "              min_impurity_decrease=0.0, min_impurity_split=None,\n",
       "              min_samples_leaf=1, min_sampl...      subsample=1.0, tol=0.0001, validation_fraction=0.1,\n",
       "              verbose=0, warm_start=False),\n",
       "       fit_params=None, iid='warn', n_jobs=-1,\n",
       "       param_grid={'n_estimators': [80, 100, 120], 'max_depth': [1, 2, 3], 'min_samples_leaf': [1, 2, 4]},\n",
       "       pre_dispatch='2*n_jobs', refit=True, return_train_score='warn',\n",
       "       scoring=None, verbose=0)"
      ]
     },
     "execution_count": 36,
     "metadata": {},
     "output_type": "execute_result"
    }
   ],
   "source": [
    "from sklearn.model_selection import GridSearchCV\n",
    "\n",
    "gridsearch_forest = GradientBoostingClassifier()\n",
    "\n",
    "params = {\n",
    "    \"n_estimators\": [80, 100, 120],\n",
    "    \"max_depth\": [1, 2, 3],\n",
    "    \"min_samples_leaf\" : [1, 2, 4]\n",
    "}\n",
    "\n",
    "clf = GridSearchCV(gridsearch_forest, param_grid=params, n_jobs=-1, cv=3 )\n",
    "clf.fit(X_train, y_train)"
   ]
  },
  {
   "cell_type": "code",
   "execution_count": 37,
   "metadata": {},
   "outputs": [
    {
     "data": {
      "text/plain": [
       "{'max_depth': 1, 'min_samples_leaf': 1, 'n_estimators': 80}"
      ]
     },
     "execution_count": 37,
     "metadata": {},
     "output_type": "execute_result"
    }
   ],
   "source": [
    "clf.best_params_"
   ]
  },
  {
   "cell_type": "code",
   "execution_count": 38,
   "metadata": {},
   "outputs": [
    {
     "data": {
      "text/plain": [
       "0.9140805442405409"
      ]
     },
     "execution_count": 38,
     "metadata": {},
     "output_type": "execute_result"
    }
   ],
   "source": [
    "clf.best_score_"
   ]
  },
  {
   "cell_type": "markdown",
   "metadata": {},
   "source": [
    "## 3. Conclusions"
   ]
  },
  {
   "cell_type": "markdown",
   "metadata": {},
   "source": [
    "Based on this analysis, we found that the best performing model is Random Forest, with accuracy 91.42%, and 80 estimators.\n",
    "\n",
    "After that, the second best performing model is Gradient Boosting, with accuracy 91.41%, and 80 estimators.\n",
    "\n",
    "After that, the third best performing model is Logistic Regression.\n",
    "It has accuracy score 85.98%,\n",
    "and the most important variables are\n",
    "var27, var44, var16, var89, var18.\n",
    "A significant advantage of this model is that it allows us to clearly see relations between the key variables."
   ]
  },
  {
   "cell_type": "code",
   "execution_count": null,
   "metadata": {},
   "outputs": [],
   "source": []
  }
 ],
 "metadata": {
  "kernelspec": {
   "display_name": "Python 2",
   "language": "python",
   "name": "python2"
  },
  "language_info": {
   "codemirror_mode": {
    "name": "ipython",
    "version": 2
   },
   "file_extension": ".py",
   "mimetype": "text/x-python",
   "name": "python",
   "nbconvert_exporter": "python",
   "pygments_lexer": "ipython2",
   "version": "2.7.16"
  }
 },
 "nbformat": 4,
 "nbformat_minor": 2
}
